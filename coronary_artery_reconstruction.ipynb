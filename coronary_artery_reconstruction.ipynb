{
  "nbformat": 4,
  "nbformat_minor": 0,
  "metadata": {
    "colab": {
      "provenance": [],
      "gpuType": "T4"
    },
    "kernelspec": {
      "name": "python3",
      "display_name": "Python 3"
    },
    "language_info": {
      "name": "python"
    },
    "accelerator": "GPU"
  },
  "cells": [
    {
      "cell_type": "code",
      "source": [
        "from google.colab import drive\n",
        "drive.mount('/content/drive')"
      ],
      "metadata": {
        "colab": {
          "base_uri": "https://localhost:8080/"
        },
        "id": "LeMk3lB23Pe9",
        "outputId": "1a6b2ce4-592f-4c9e-9c5a-c8f30fe30cea"
      },
      "execution_count": null,
      "outputs": [
        {
          "output_type": "stream",
          "name": "stdout",
          "text": [
            "Drive already mounted at /content/drive; to attempt to forcibly remount, call drive.mount(\"/content/drive\", force_remount=True).\n"
          ]
        }
      ]
    },
    {
      "cell_type": "code",
      "source": [
        "import os\n",
        "import numpy as np\n",
        "import tensorflow as tf\n",
        "from keras.utils import img_to_array, load_img\n",
        "from sklearn.model_selection import train_test_split"
      ],
      "metadata": {
        "id": "eTnRmjjK4CC4"
      },
      "execution_count": null,
      "outputs": []
    },
    {
      "cell_type": "code",
      "source": [
        "base_path = '/content/drive/MyDrive/DB_Angiograms_134/Database_134_Angiograms'\n",
        "sample_img_path = os.path.join(base_path, '100_gt.pgm')\n",
        "\n",
        "# Load a sample image\n",
        "sample_img = load_img(sample_img_path, color_mode='grayscale')\n",
        "\n",
        "# Print the size of the sample image\n",
        "print(f'Sample image size: {sample_img.size}')"
      ],
      "metadata": {
        "colab": {
          "base_uri": "https://localhost:8080/"
        },
        "id": "QP3sjPPMrwIc",
        "outputId": "cf63ead5-e5dd-43c4-d514-ab08cfe6a9f9"
      },
      "execution_count": null,
      "outputs": [
        {
          "output_type": "stream",
          "name": "stdout",
          "text": [
            "Sample image size: (300, 300)\n"
          ]
        }
      ]
    },
    {
      "cell_type": "code",
      "source": [
        "base_path = '/content/drive/MyDrive/DB_Angiograms_134/Database_134_Angiograms'\n",
        "img_height, img_width = 300,300\n",
        "\n",
        "def load_images_and_masks(base_path, img_height, img_width):\n",
        "    images = []\n",
        "    masks = []\n",
        "\n",
        "    for i in range(1, 135):\n",
        "        img_path = os.path.join(base_path, f'{i}.pgm')\n",
        "        mask_path = os.path.join(base_path, f'{i}_gt.pgm')\n",
        "\n",
        "        img = load_img(img_path, color_mode='grayscale', target_size=(img_height, img_width))\n",
        "        mask = load_img(mask_path, color_mode='grayscale', target_size=(img_height, img_width))\n",
        "\n",
        "        img = img_to_array(img)/255\n",
        "        mask = img_to_array(mask)/255\n",
        "\n",
        "        images.append(img)\n",
        "        masks.append(mask)\n",
        "\n",
        "    return np.array(images), np.array(masks)\n",
        "\n",
        "# Load the images and masks\n",
        "X, y = load_images_and_masks(base_path, img_height, img_width)"
      ],
      "metadata": {
        "id": "cNWdqUk8o-nb"
      },
      "execution_count": null,
      "outputs": []
    },
    {
      "cell_type": "code",
      "source": [
        "X_train, X_val, y_train, y_val = train_test_split(X, y, test_size=0.2, random_state=42)"
      ],
      "metadata": {
        "id": "msWpNOLWv0Z4"
      },
      "execution_count": null,
      "outputs": []
    },
    {
      "cell_type": "code",
      "source": [
        "import tensorflow as tf\n",
        "from keras.layers import Input, Conv2D, MaxPooling2D, UpSampling2D, concatenate, Cropping2D\n",
        "from keras.models import Model\n",
        "\n",
        "def unet(input_shape):\n",
        "    inputs = Input(input_shape)  # Input shape: (300, 300, 1)\n",
        "\n",
        "    # Contracting Path\n",
        "    conv1 = Conv2D(64, (3, 3), activation='relu', padding='same')(inputs)  # Output shape: (300, 300, 64)\n",
        "    conv1 = Conv2D(64, (3, 3), activation='relu', padding='same')(conv1)  # Output shape: (300, 300, 64)\n",
        "    pool1 = MaxPooling2D((2, 2))(conv1)  # Output shape: (150, 150, 64)\n",
        "\n",
        "    conv2 = Conv2D(128, (3, 3), activation='relu', padding='same')(pool1)  # Output shape: (150, 150, 128)\n",
        "    conv2 = Conv2D(128, (3, 3), activation='relu', padding='same')(conv2)  # Output shape: (150, 150, 128)\n",
        "    pool2 = MaxPooling2D((2, 2))(conv2)  # Output shape: (75, 75, 128)\n",
        "\n",
        "    conv3 = Conv2D(256, (3, 3), activation='relu', padding='same')(pool2)  # Output shape: (75, 75, 256)\n",
        "    conv3 = Conv2D(256, (3, 3), activation='relu', padding='same')(conv3)  # Output shape: (75, 75, 256)\n",
        "    pool3 = MaxPooling2D((2, 2))(conv3)  # Output shape: (37, 37, 256)\n",
        "\n",
        "    conv4 = Conv2D(512, (3, 3), activation='relu', padding='same')(pool3)  # Output shape: (37, 37, 512)\n",
        "    conv4 = Conv2D(512, (3, 3), activation='relu', padding='same')(conv4)  # Output shape: (37, 37, 512)\n",
        "    pool4 = MaxPooling2D((2, 2))(conv4)  # Output shape: (18, 18, 512)\n",
        "\n",
        "    # Bottleneck\n",
        "    conv5 = Conv2D(1024, (3, 3), activation='relu', padding='same')(pool4)  # Output shape: (18, 18, 1024)\n",
        "    conv5 = Conv2D(1024, (3, 3), activation='relu', padding='same')(conv5)  # Output shape: (18, 18, 1024)\n",
        "\n",
        "    # Expansive Path\n",
        "    up6 = UpSampling2D((2, 2))(conv5)  # Output shape: (36, 36, 1024)\n",
        "    up6 = tf.image.resize(up6, [tf.shape(conv4)[1], tf.shape(conv4)[2]], method='bilinear')\n",
        "    up6 = concatenate([up6, conv4], axis=-1)  # Output shape: (36, 36, 1536)\n",
        "    conv6 = Conv2D(512, (3, 3), activation='relu', padding='same')(up6)  # Output shape: (36, 36, 512)\n",
        "    conv6 = Conv2D(512, (3, 3), activation='relu', padding='same')(conv6)  # Output shape: (36, 36, 512)\n",
        "\n",
        "    up7 = UpSampling2D((2, 2))(conv6)  # Output shape: (72, 72, 512)\n",
        "    up7 = tf.image.resize(up7, [tf.shape(conv3)[1], tf.shape(conv3)[2]], method='bilinear')\n",
        "    up7 = concatenate([up7, conv3], axis=-1)  # Output shape: (72, 72, 768)\n",
        "    conv7 = Conv2D(256, (3, 3), activation='relu', padding='same')(up7)  # Output shape: (72, 72, 256)\n",
        "    conv7 = Conv2D(256, (3, 3), activation='relu', padding='same')(conv7)  # Output shape: (72, 72, 256)\n",
        "\n",
        "    up8 = UpSampling2D((2, 2))(conv7)  # Output shape: (144, 144, 256)\n",
        "    up8 = tf.image.resize(up8, [tf.shape(conv2)[1], tf.shape(conv2)[2]], method='bilinear')\n",
        "    up8 = concatenate([up8, conv2], axis=-1)  # Output shape: (144, 144, 384)\n",
        "    conv8 = Conv2D(128, (3, 3), activation='relu', padding='same')(up8)  # Output shape: (144, 144, 128)\n",
        "    conv8 = Conv2D(128, (3, 3), activation='relu', padding='same')(conv8)  # Output shape: (144, 144, 128)\n",
        "\n",
        "    up9 = UpSampling2D((2, 2))(conv8)  # Output shape: (288, 288, 128)\n",
        "    up9 = tf.image.resize(up9, [tf.shape(conv1)[1], tf.shape(conv1)[2]], method='bilinear')\n",
        "    up9 = concatenate([up9, conv1], axis=-1)  # Output shape: (288, 288, 128)\n",
        "    conv9 = Conv2D(64, (3, 3), activation='relu', padding='same')(up9)  # Output shape: (288, 288, 64)\n",
        "    conv9 = Conv2D(64, (3, 3), activation='relu', padding='same')(conv9)  # Output shape: (288, 288, 64)\n",
        "\n",
        "    # Final Output Layer\n",
        "    outputs = Conv2D(1, (1, 1), activation='sigmoid')(conv9)  # Output shape: (300, 300, 1)\n",
        "\n",
        "    model = Model(inputs=[inputs], outputs=[outputs])\n",
        "\n",
        "    return model\n",
        "\n",
        "# Define the input shape and create the model\n",
        "input_shape = (300, 300, 1)\n",
        "model = unet(input_shape)\n",
        "\n",
        "# Print the model summary\n",
        "model.summary()\n"
      ],
      "metadata": {
        "id": "A6ZGjL5IJWdw",
        "colab": {
          "base_uri": "https://localhost:8080/"
        },
        "outputId": "f3c90496-0da4-4128-a120-7f5720f827a8"
      },
      "execution_count": null,
      "outputs": [
        {
          "output_type": "stream",
          "name": "stdout",
          "text": [
            "Model: \"model_1\"\n",
            "__________________________________________________________________________________________________\n",
            " Layer (type)                Output Shape                 Param #   Connected to                  \n",
            "==================================================================================================\n",
            " input_2 (InputLayer)        [(None, 300, 300, 1)]        0         []                            \n",
            "                                                                                                  \n",
            " conv2d_19 (Conv2D)          (None, 300, 300, 64)         640       ['input_2[0][0]']             \n",
            "                                                                                                  \n",
            " conv2d_20 (Conv2D)          (None, 300, 300, 64)         36928     ['conv2d_19[0][0]']           \n",
            "                                                                                                  \n",
            " max_pooling2d_4 (MaxPoolin  (None, 150, 150, 64)         0         ['conv2d_20[0][0]']           \n",
            " g2D)                                                                                             \n",
            "                                                                                                  \n",
            " conv2d_21 (Conv2D)          (None, 150, 150, 128)        73856     ['max_pooling2d_4[0][0]']     \n",
            "                                                                                                  \n",
            " conv2d_22 (Conv2D)          (None, 150, 150, 128)        147584    ['conv2d_21[0][0]']           \n",
            "                                                                                                  \n",
            " max_pooling2d_5 (MaxPoolin  (None, 75, 75, 128)          0         ['conv2d_22[0][0]']           \n",
            " g2D)                                                                                             \n",
            "                                                                                                  \n",
            " conv2d_23 (Conv2D)          (None, 75, 75, 256)          295168    ['max_pooling2d_5[0][0]']     \n",
            "                                                                                                  \n",
            " conv2d_24 (Conv2D)          (None, 75, 75, 256)          590080    ['conv2d_23[0][0]']           \n",
            "                                                                                                  \n",
            " max_pooling2d_6 (MaxPoolin  (None, 37, 37, 256)          0         ['conv2d_24[0][0]']           \n",
            " g2D)                                                                                             \n",
            "                                                                                                  \n",
            " conv2d_25 (Conv2D)          (None, 37, 37, 512)          1180160   ['max_pooling2d_6[0][0]']     \n",
            "                                                                                                  \n",
            " conv2d_26 (Conv2D)          (None, 37, 37, 512)          2359808   ['conv2d_25[0][0]']           \n",
            "                                                                                                  \n",
            " max_pooling2d_7 (MaxPoolin  (None, 18, 18, 512)          0         ['conv2d_26[0][0]']           \n",
            " g2D)                                                                                             \n",
            "                                                                                                  \n",
            " conv2d_27 (Conv2D)          (None, 18, 18, 1024)         4719616   ['max_pooling2d_7[0][0]']     \n",
            "                                                                                                  \n",
            " conv2d_28 (Conv2D)          (None, 18, 18, 1024)         9438208   ['conv2d_27[0][0]']           \n",
            "                                                                                                  \n",
            " tf.compat.v1.shape_8 (TFOp  (4,)                         0         ['conv2d_26[0][0]']           \n",
            " Lambda)                                                                                          \n",
            "                                                                                                  \n",
            " tf.compat.v1.shape_9 (TFOp  (4,)                         0         ['conv2d_26[0][0]']           \n",
            " Lambda)                                                                                          \n",
            "                                                                                                  \n",
            " up_sampling2d_4 (UpSamplin  (None, 36, 36, 1024)         0         ['conv2d_28[0][0]']           \n",
            " g2D)                                                                                             \n",
            "                                                                                                  \n",
            " tf.__operators__.getitem_8  ()                           0         ['tf.compat.v1.shape_8[0][0]']\n",
            "  (SlicingOpLambda)                                                                               \n",
            "                                                                                                  \n",
            " tf.__operators__.getitem_9  ()                           0         ['tf.compat.v1.shape_9[0][0]']\n",
            "  (SlicingOpLambda)                                                                               \n",
            "                                                                                                  \n",
            " tf.image.resize_4 (TFOpLam  (None, 37, 37, 1024)         0         ['up_sampling2d_4[0][0]',     \n",
            " bda)                                                                'tf.__operators__.getitem_8[0\n",
            "                                                                    ][0]',                        \n",
            "                                                                     'tf.__operators__.getitem_9[0\n",
            "                                                                    ][0]']                        \n",
            "                                                                                                  \n",
            " concatenate_4 (Concatenate  (None, 37, 37, 1536)         0         ['tf.image.resize_4[0][0]',   \n",
            " )                                                                   'conv2d_26[0][0]']           \n",
            "                                                                                                  \n",
            " conv2d_29 (Conv2D)          (None, 37, 37, 512)          7078400   ['concatenate_4[0][0]']       \n",
            "                                                                                                  \n",
            " conv2d_30 (Conv2D)          (None, 37, 37, 512)          2359808   ['conv2d_29[0][0]']           \n",
            "                                                                                                  \n",
            " tf.compat.v1.shape_10 (TFO  (4,)                         0         ['conv2d_24[0][0]']           \n",
            " pLambda)                                                                                         \n",
            "                                                                                                  \n",
            " tf.compat.v1.shape_11 (TFO  (4,)                         0         ['conv2d_24[0][0]']           \n",
            " pLambda)                                                                                         \n",
            "                                                                                                  \n",
            " up_sampling2d_5 (UpSamplin  (None, 74, 74, 512)          0         ['conv2d_30[0][0]']           \n",
            " g2D)                                                                                             \n",
            "                                                                                                  \n",
            " tf.__operators__.getitem_1  ()                           0         ['tf.compat.v1.shape_10[0][0]'\n",
            " 0 (SlicingOpLambda)                                                ]                             \n",
            "                                                                                                  \n",
            " tf.__operators__.getitem_1  ()                           0         ['tf.compat.v1.shape_11[0][0]'\n",
            " 1 (SlicingOpLambda)                                                ]                             \n",
            "                                                                                                  \n",
            " tf.image.resize_5 (TFOpLam  (None, 75, 75, 512)          0         ['up_sampling2d_5[0][0]',     \n",
            " bda)                                                                'tf.__operators__.getitem_10[\n",
            "                                                                    0][0]',                       \n",
            "                                                                     'tf.__operators__.getitem_11[\n",
            "                                                                    0][0]']                       \n",
            "                                                                                                  \n",
            " concatenate_5 (Concatenate  (None, 75, 75, 768)          0         ['tf.image.resize_5[0][0]',   \n",
            " )                                                                   'conv2d_24[0][0]']           \n",
            "                                                                                                  \n",
            " conv2d_31 (Conv2D)          (None, 75, 75, 256)          1769728   ['concatenate_5[0][0]']       \n",
            "                                                                                                  \n",
            " conv2d_32 (Conv2D)          (None, 75, 75, 256)          590080    ['conv2d_31[0][0]']           \n",
            "                                                                                                  \n",
            " tf.compat.v1.shape_12 (TFO  (4,)                         0         ['conv2d_22[0][0]']           \n",
            " pLambda)                                                                                         \n",
            "                                                                                                  \n",
            " tf.compat.v1.shape_13 (TFO  (4,)                         0         ['conv2d_22[0][0]']           \n",
            " pLambda)                                                                                         \n",
            "                                                                                                  \n",
            " up_sampling2d_6 (UpSamplin  (None, 150, 150, 256)        0         ['conv2d_32[0][0]']           \n",
            " g2D)                                                                                             \n",
            "                                                                                                  \n",
            " tf.__operators__.getitem_1  ()                           0         ['tf.compat.v1.shape_12[0][0]'\n",
            " 2 (SlicingOpLambda)                                                ]                             \n",
            "                                                                                                  \n",
            " tf.__operators__.getitem_1  ()                           0         ['tf.compat.v1.shape_13[0][0]'\n",
            " 3 (SlicingOpLambda)                                                ]                             \n",
            "                                                                                                  \n",
            " tf.image.resize_6 (TFOpLam  (None, 150, 150, 256)        0         ['up_sampling2d_6[0][0]',     \n",
            " bda)                                                                'tf.__operators__.getitem_12[\n",
            "                                                                    0][0]',                       \n",
            "                                                                     'tf.__operators__.getitem_13[\n",
            "                                                                    0][0]']                       \n",
            "                                                                                                  \n",
            " concatenate_6 (Concatenate  (None, 150, 150, 384)        0         ['tf.image.resize_6[0][0]',   \n",
            " )                                                                   'conv2d_22[0][0]']           \n",
            "                                                                                                  \n",
            " conv2d_33 (Conv2D)          (None, 150, 150, 128)        442496    ['concatenate_6[0][0]']       \n",
            "                                                                                                  \n",
            " conv2d_34 (Conv2D)          (None, 150, 150, 128)        147584    ['conv2d_33[0][0]']           \n",
            "                                                                                                  \n",
            " tf.compat.v1.shape_14 (TFO  (4,)                         0         ['conv2d_20[0][0]']           \n",
            " pLambda)                                                                                         \n",
            "                                                                                                  \n",
            " tf.compat.v1.shape_15 (TFO  (4,)                         0         ['conv2d_20[0][0]']           \n",
            " pLambda)                                                                                         \n",
            "                                                                                                  \n",
            " up_sampling2d_7 (UpSamplin  (None, 300, 300, 128)        0         ['conv2d_34[0][0]']           \n",
            " g2D)                                                                                             \n",
            "                                                                                                  \n",
            " tf.__operators__.getitem_1  ()                           0         ['tf.compat.v1.shape_14[0][0]'\n",
            " 4 (SlicingOpLambda)                                                ]                             \n",
            "                                                                                                  \n",
            " tf.__operators__.getitem_1  ()                           0         ['tf.compat.v1.shape_15[0][0]'\n",
            " 5 (SlicingOpLambda)                                                ]                             \n",
            "                                                                                                  \n",
            " tf.image.resize_7 (TFOpLam  (None, 300, 300, 128)        0         ['up_sampling2d_7[0][0]',     \n",
            " bda)                                                                'tf.__operators__.getitem_14[\n",
            "                                                                    0][0]',                       \n",
            "                                                                     'tf.__operators__.getitem_15[\n",
            "                                                                    0][0]']                       \n",
            "                                                                                                  \n",
            " concatenate_7 (Concatenate  (None, 300, 300, 192)        0         ['tf.image.resize_7[0][0]',   \n",
            " )                                                                   'conv2d_20[0][0]']           \n",
            "                                                                                                  \n",
            " conv2d_35 (Conv2D)          (None, 300, 300, 64)         110656    ['concatenate_7[0][0]']       \n",
            "                                                                                                  \n",
            " conv2d_36 (Conv2D)          (None, 300, 300, 64)         36928     ['conv2d_35[0][0]']           \n",
            "                                                                                                  \n",
            " conv2d_37 (Conv2D)          (None, 300, 300, 1)          65        ['conv2d_36[0][0]']           \n",
            "                                                                                                  \n",
            "==================================================================================================\n",
            "Total params: 31377793 (119.70 MB)\n",
            "Trainable params: 31377793 (119.70 MB)\n",
            "Non-trainable params: 0 (0.00 Byte)\n",
            "__________________________________________________________________________________________________\n"
          ]
        }
      ]
    },
    {
      "cell_type": "code",
      "source": [
        "import tensorflow as tf\n",
        "\n",
        "def dice_loss(y_true, y_pred):\n",
        "    y_true = tf.cast(y_true, tf.float32)\n",
        "    y_pred = tf.cast(y_pred, tf.float32)\n",
        "    intersection = tf.reduce_sum(y_true * y_pred)\n",
        "    return 1 - (2 * intersection + 1) / (tf.reduce_sum(y_true) + tf.reduce_sum(y_pred) + 1)\n",
        "\n",
        "# Combined loss\n",
        "def combined_loss(y_true, y_pred):\n",
        "    bce = tf.keras.losses.BinaryCrossentropy()(y_true, y_pred)\n",
        "    d_loss = dice_loss(y_true, y_pred)  # Add the missing closing parenthesis here\n",
        "    return bce + d_loss  # Adjust the weighting as needed\n",
        "\n",
        "model.compile(optimizer='adam', loss=combined_loss, metrics=['accuracy'])\n",
        "history = model.fit(\n",
        "    X_train, y_train,\n",
        "    epochs=80,\n",
        "    batch_size=8,\n",
        "    validation_data=(X_val, y_val)\n",
        ")"
      ],
      "metadata": {
        "id": "aQtFXEmMKAY1",
        "colab": {
          "base_uri": "https://localhost:8080/"
        },
        "outputId": "641aeb2c-94f3-42e6-e594-3ba5bb66453b"
      },
      "execution_count": null,
      "outputs": [
        {
          "output_type": "stream",
          "name": "stdout",
          "text": [
            "Epoch 1/80\n",
            "14/14 [==============================] - 16s 803ms/step - loss: 8.6447 - accuracy: 0.9443 - val_loss: 1.1567 - val_accuracy: 0.9494\n",
            "Epoch 2/80\n",
            "14/14 [==============================] - 11s 767ms/step - loss: 1.1480 - accuracy: 0.9445 - val_loss: 1.1247 - val_accuracy: 0.9494\n",
            "Epoch 3/80\n",
            "14/14 [==============================] - 11s 766ms/step - loss: 1.1316 - accuracy: 0.9445 - val_loss: 1.1298 - val_accuracy: 0.9494\n",
            "Epoch 4/80\n",
            "14/14 [==============================] - 11s 769ms/step - loss: 1.1313 - accuracy: 0.9445 - val_loss: 1.1099 - val_accuracy: 0.9494\n",
            "Epoch 5/80\n",
            "14/14 [==============================] - 10s 743ms/step - loss: 1.0964 - accuracy: 0.9445 - val_loss: 1.1239 - val_accuracy: 0.9494\n",
            "Epoch 6/80\n",
            "14/14 [==============================] - 11s 754ms/step - loss: 1.0934 - accuracy: 0.9445 - val_loss: 1.0692 - val_accuracy: 0.9494\n",
            "Epoch 7/80\n",
            "14/14 [==============================] - 11s 803ms/step - loss: 1.0768 - accuracy: 0.9445 - val_loss: 1.0858 - val_accuracy: 0.9494\n",
            "Epoch 8/80\n",
            "14/14 [==============================] - 11s 799ms/step - loss: 1.0838 - accuracy: 0.9445 - val_loss: 1.0473 - val_accuracy: 0.9494\n",
            "Epoch 9/80\n",
            "14/14 [==============================] - 11s 758ms/step - loss: 1.0580 - accuracy: 0.9445 - val_loss: 1.0362 - val_accuracy: 0.9494\n",
            "Epoch 10/80\n",
            "14/14 [==============================] - 10s 748ms/step - loss: 1.0589 - accuracy: 0.9446 - val_loss: 1.0283 - val_accuracy: 0.9494\n",
            "Epoch 11/80\n",
            "14/14 [==============================] - 11s 777ms/step - loss: 1.0116 - accuracy: 0.9459 - val_loss: 1.2242 - val_accuracy: 0.8363\n",
            "Epoch 12/80\n",
            "14/14 [==============================] - 11s 781ms/step - loss: 0.9544 - accuracy: 0.9447 - val_loss: 0.8280 - val_accuracy: 0.9427\n",
            "Epoch 13/80\n",
            "14/14 [==============================] - 10s 750ms/step - loss: 1.0782 - accuracy: 0.9070 - val_loss: 1.0123 - val_accuracy: 0.9450\n",
            "Epoch 14/80\n",
            "14/14 [==============================] - 11s 785ms/step - loss: 0.9751 - accuracy: 0.9470 - val_loss: 0.9702 - val_accuracy: 0.9557\n",
            "Epoch 15/80\n",
            "14/14 [==============================] - 11s 787ms/step - loss: 0.7710 - accuracy: 0.9503 - val_loss: 0.8862 - val_accuracy: 0.9571\n",
            "Epoch 16/80\n",
            "14/14 [==============================] - 11s 788ms/step - loss: 0.6848 - accuracy: 0.9562 - val_loss: 0.5955 - val_accuracy: 0.9627\n",
            "Epoch 17/80\n",
            "14/14 [==============================] - 11s 757ms/step - loss: 0.6230 - accuracy: 0.9572 - val_loss: 0.5844 - val_accuracy: 0.9584\n",
            "Epoch 18/80\n",
            "14/14 [==============================] - 11s 757ms/step - loss: 0.5854 - accuracy: 0.9592 - val_loss: 0.5886 - val_accuracy: 0.9655\n",
            "Epoch 19/80\n",
            "14/14 [==============================] - 11s 786ms/step - loss: 0.6183 - accuracy: 0.9579 - val_loss: 0.5734 - val_accuracy: 0.9646\n",
            "Epoch 20/80\n",
            "14/14 [==============================] - 11s 787ms/step - loss: 0.5880 - accuracy: 0.9581 - val_loss: 0.5192 - val_accuracy: 0.9643\n",
            "Epoch 21/80\n",
            "14/14 [==============================] - 11s 785ms/step - loss: 0.5563 - accuracy: 0.9601 - val_loss: 0.5815 - val_accuracy: 0.9656\n",
            "Epoch 22/80\n",
            "14/14 [==============================] - 11s 785ms/step - loss: 0.5936 - accuracy: 0.9585 - val_loss: 0.5287 - val_accuracy: 0.9670\n",
            "Epoch 23/80\n",
            "14/14 [==============================] - 11s 785ms/step - loss: 0.5482 - accuracy: 0.9618 - val_loss: 0.5312 - val_accuracy: 0.9586\n",
            "Epoch 24/80\n",
            "14/14 [==============================] - 11s 782ms/step - loss: 0.5110 - accuracy: 0.9624 - val_loss: 0.4990 - val_accuracy: 0.9675\n",
            "Epoch 25/80\n",
            "14/14 [==============================] - 11s 783ms/step - loss: 0.4930 - accuracy: 0.9642 - val_loss: 0.4785 - val_accuracy: 0.9660\n",
            "Epoch 26/80\n",
            "14/14 [==============================] - 11s 782ms/step - loss: 0.4728 - accuracy: 0.9649 - val_loss: 0.4766 - val_accuracy: 0.9645\n",
            "Epoch 27/80\n",
            "14/14 [==============================] - 11s 782ms/step - loss: 0.4724 - accuracy: 0.9647 - val_loss: 0.4846 - val_accuracy: 0.9632\n",
            "Epoch 28/80\n",
            "14/14 [==============================] - 11s 783ms/step - loss: 0.4577 - accuracy: 0.9653 - val_loss: 0.4668 - val_accuracy: 0.9670\n",
            "Epoch 29/80\n",
            "14/14 [==============================] - 10s 751ms/step - loss: 0.4604 - accuracy: 0.9651 - val_loss: 0.4663 - val_accuracy: 0.9661\n",
            "Epoch 30/80\n",
            "14/14 [==============================] - 10s 751ms/step - loss: 0.4461 - accuracy: 0.9666 - val_loss: 0.4720 - val_accuracy: 0.9629\n",
            "Epoch 31/80\n",
            "14/14 [==============================] - 11s 783ms/step - loss: 0.4561 - accuracy: 0.9647 - val_loss: 0.4614 - val_accuracy: 0.9658\n",
            "Epoch 32/80\n",
            "14/14 [==============================] - 10s 752ms/step - loss: 0.4594 - accuracy: 0.9658 - val_loss: 0.4739 - val_accuracy: 0.9633\n",
            "Epoch 33/80\n",
            "14/14 [==============================] - 11s 753ms/step - loss: 0.4391 - accuracy: 0.9661 - val_loss: 0.4464 - val_accuracy: 0.9689\n",
            "Epoch 34/80\n",
            "14/14 [==============================] - 11s 786ms/step - loss: 0.4322 - accuracy: 0.9672 - val_loss: 0.4380 - val_accuracy: 0.9687\n",
            "Epoch 35/80\n",
            "14/14 [==============================] - 11s 756ms/step - loss: 0.4288 - accuracy: 0.9675 - val_loss: 0.4753 - val_accuracy: 0.9610\n",
            "Epoch 36/80\n",
            "14/14 [==============================] - 11s 755ms/step - loss: 0.4264 - accuracy: 0.9675 - val_loss: 0.4335 - val_accuracy: 0.9678\n",
            "Epoch 37/80\n",
            "14/14 [==============================] - 11s 786ms/step - loss: 0.4198 - accuracy: 0.9681 - val_loss: 0.4396 - val_accuracy: 0.9661\n",
            "Epoch 38/80\n",
            "14/14 [==============================] - 11s 786ms/step - loss: 0.4196 - accuracy: 0.9674 - val_loss: 0.4433 - val_accuracy: 0.9703\n",
            "Epoch 39/80\n",
            "14/14 [==============================] - 11s 784ms/step - loss: 0.4226 - accuracy: 0.9682 - val_loss: 0.4291 - val_accuracy: 0.9685\n",
            "Epoch 40/80\n",
            "14/14 [==============================] - 11s 786ms/step - loss: 0.4025 - accuracy: 0.9696 - val_loss: 0.4246 - val_accuracy: 0.9676\n",
            "Epoch 41/80\n",
            "14/14 [==============================] - 11s 787ms/step - loss: 0.3933 - accuracy: 0.9697 - val_loss: 0.4118 - val_accuracy: 0.9699\n",
            "Epoch 42/80\n",
            "14/14 [==============================] - 10s 752ms/step - loss: 0.3864 - accuracy: 0.9710 - val_loss: 0.4471 - val_accuracy: 0.9631\n",
            "Epoch 43/80\n",
            "14/14 [==============================] - 11s 785ms/step - loss: 0.3834 - accuracy: 0.9704 - val_loss: 0.4045 - val_accuracy: 0.9715\n",
            "Epoch 44/80\n",
            "14/14 [==============================] - 11s 786ms/step - loss: 0.3786 - accuracy: 0.9716 - val_loss: 0.4010 - val_accuracy: 0.9698\n",
            "Epoch 45/80\n",
            "14/14 [==============================] - 11s 756ms/step - loss: 0.3715 - accuracy: 0.9718 - val_loss: 0.4184 - val_accuracy: 0.9719\n",
            "Epoch 46/80\n",
            "14/14 [==============================] - 11s 790ms/step - loss: 0.3679 - accuracy: 0.9722 - val_loss: 0.3925 - val_accuracy: 0.9720\n",
            "Epoch 47/80\n",
            "14/14 [==============================] - 11s 789ms/step - loss: 0.3584 - accuracy: 0.9729 - val_loss: 0.3944 - val_accuracy: 0.9707\n",
            "Epoch 48/80\n",
            "14/14 [==============================] - 11s 789ms/step - loss: 0.3643 - accuracy: 0.9728 - val_loss: 0.4803 - val_accuracy: 0.9587\n",
            "Epoch 49/80\n",
            "14/14 [==============================] - 11s 757ms/step - loss: 0.3825 - accuracy: 0.9710 - val_loss: 0.3986 - val_accuracy: 0.9710\n",
            "Epoch 50/80\n",
            "14/14 [==============================] - 11s 790ms/step - loss: 0.3584 - accuracy: 0.9730 - val_loss: 0.3973 - val_accuracy: 0.9699\n",
            "Epoch 51/80\n",
            "14/14 [==============================] - 11s 757ms/step - loss: 0.3499 - accuracy: 0.9735 - val_loss: 0.3858 - val_accuracy: 0.9731\n",
            "Epoch 52/80\n",
            "14/14 [==============================] - 11s 759ms/step - loss: 0.3367 - accuracy: 0.9747 - val_loss: 0.4122 - val_accuracy: 0.9669\n",
            "Epoch 53/80\n",
            "14/14 [==============================] - 11s 758ms/step - loss: 0.3379 - accuracy: 0.9741 - val_loss: 0.3836 - val_accuracy: 0.9728\n",
            "Epoch 54/80\n",
            "14/14 [==============================] - 11s 758ms/step - loss: 0.3269 - accuracy: 0.9752 - val_loss: 0.3678 - val_accuracy: 0.9737\n",
            "Epoch 55/80\n",
            "14/14 [==============================] - 11s 757ms/step - loss: 0.3205 - accuracy: 0.9757 - val_loss: 0.3741 - val_accuracy: 0.9728\n",
            "Epoch 56/80\n",
            "14/14 [==============================] - 11s 788ms/step - loss: 0.3146 - accuracy: 0.9762 - val_loss: 0.3865 - val_accuracy: 0.9703\n",
            "Epoch 57/80\n",
            "14/14 [==============================] - 11s 785ms/step - loss: 0.3205 - accuracy: 0.9757 - val_loss: 0.3665 - val_accuracy: 0.9733\n",
            "Epoch 58/80\n",
            "14/14 [==============================] - 11s 784ms/step - loss: 0.3116 - accuracy: 0.9764 - val_loss: 0.3685 - val_accuracy: 0.9737\n",
            "Epoch 59/80\n",
            "14/14 [==============================] - 11s 784ms/step - loss: 0.2970 - accuracy: 0.9775 - val_loss: 0.3660 - val_accuracy: 0.9737\n",
            "Epoch 60/80\n",
            "14/14 [==============================] - 11s 786ms/step - loss: 0.2849 - accuracy: 0.9783 - val_loss: 0.3685 - val_accuracy: 0.9749\n",
            "Epoch 61/80\n",
            "14/14 [==============================] - 11s 755ms/step - loss: 0.2796 - accuracy: 0.9787 - val_loss: 0.3677 - val_accuracy: 0.9728\n",
            "Epoch 62/80\n",
            "14/14 [==============================] - 11s 789ms/step - loss: 0.2716 - accuracy: 0.9794 - val_loss: 0.3651 - val_accuracy: 0.9731\n",
            "Epoch 63/80\n",
            "14/14 [==============================] - 11s 758ms/step - loss: 0.2660 - accuracy: 0.9797 - val_loss: 0.3659 - val_accuracy: 0.9734\n",
            "Epoch 64/80\n",
            "14/14 [==============================] - 11s 791ms/step - loss: 0.2559 - accuracy: 0.9807 - val_loss: 0.3665 - val_accuracy: 0.9737\n",
            "Epoch 65/80\n",
            "14/14 [==============================] - 11s 789ms/step - loss: 0.2481 - accuracy: 0.9811 - val_loss: 0.3609 - val_accuracy: 0.9739\n",
            "Epoch 66/80\n",
            "14/14 [==============================] - 11s 787ms/step - loss: 0.2430 - accuracy: 0.9815 - val_loss: 0.3602 - val_accuracy: 0.9745\n",
            "Epoch 67/80\n",
            "14/14 [==============================] - 11s 755ms/step - loss: 0.2360 - accuracy: 0.9820 - val_loss: 0.3639 - val_accuracy: 0.9745\n",
            "Epoch 68/80\n",
            "14/14 [==============================] - 11s 786ms/step - loss: 0.2260 - accuracy: 0.9829 - val_loss: 0.3669 - val_accuracy: 0.9742\n",
            "Epoch 69/80\n",
            "14/14 [==============================] - 11s 785ms/step - loss: 0.2160 - accuracy: 0.9835 - val_loss: 0.3665 - val_accuracy: 0.9746\n",
            "Epoch 70/80\n",
            "14/14 [==============================] - 11s 786ms/step - loss: 0.2097 - accuracy: 0.9840 - val_loss: 0.3645 - val_accuracy: 0.9747\n",
            "Epoch 71/80\n",
            "14/14 [==============================] - 11s 754ms/step - loss: 0.2020 - accuracy: 0.9845 - val_loss: 0.3821 - val_accuracy: 0.9744\n",
            "Epoch 72/80\n",
            "14/14 [==============================] - 11s 785ms/step - loss: 0.1961 - accuracy: 0.9851 - val_loss: 0.3757 - val_accuracy: 0.9739\n",
            "Epoch 73/80\n",
            "14/14 [==============================] - 11s 754ms/step - loss: 0.1939 - accuracy: 0.9852 - val_loss: 0.3680 - val_accuracy: 0.9744\n",
            "Epoch 74/80\n",
            "14/14 [==============================] - 11s 753ms/step - loss: 0.1989 - accuracy: 0.9848 - val_loss: 0.3778 - val_accuracy: 0.9732\n",
            "Epoch 75/80\n",
            "14/14 [==============================] - 11s 785ms/step - loss: 0.1929 - accuracy: 0.9852 - val_loss: 0.3786 - val_accuracy: 0.9736\n",
            "Epoch 76/80\n",
            "14/14 [==============================] - 11s 786ms/step - loss: 0.1797 - accuracy: 0.9863 - val_loss: 0.3857 - val_accuracy: 0.9745\n",
            "Epoch 77/80\n",
            "14/14 [==============================] - 11s 786ms/step - loss: 0.1742 - accuracy: 0.9867 - val_loss: 0.3852 - val_accuracy: 0.9737\n",
            "Epoch 78/80\n",
            "14/14 [==============================] - 11s 755ms/step - loss: 0.1628 - accuracy: 0.9876 - val_loss: 0.3903 - val_accuracy: 0.9740\n",
            "Epoch 79/80\n",
            "14/14 [==============================] - 11s 790ms/step - loss: 0.1587 - accuracy: 0.9879 - val_loss: 0.3917 - val_accuracy: 0.9739\n",
            "Epoch 80/80\n",
            "14/14 [==============================] - 11s 787ms/step - loss: 0.1520 - accuracy: 0.9884 - val_loss: 0.4004 - val_accuracy: 0.9744\n"
          ]
        }
      ]
    },
    {
      "cell_type": "code",
      "source": [
        "sample_img = load_img('/content/2.png', color_mode='grayscale')\n",
        "sample_img.size"
      ],
      "metadata": {
        "colab": {
          "base_uri": "https://localhost:8080/"
        },
        "id": "SHR6-tN_DVHE",
        "outputId": "8c10b91a-6a86-4398-bd73-6e99ccb859c8"
      },
      "execution_count": null,
      "outputs": [
        {
          "output_type": "execute_result",
          "data": {
            "text/plain": [
              "(512, 512)"
            ]
          },
          "metadata": {},
          "execution_count": 38
        }
      ]
    },
    {
      "cell_type": "code",
      "source": [
        "sample_img.resize((300, 300))"
      ],
      "metadata": {
        "colab": {
          "base_uri": "https://localhost:8080/",
          "height": 317
        },
        "id": "gvxeQVCKUK24",
        "outputId": "6421a756-7f9d-45b1-dc36-cc59974de5b4"
      },
      "execution_count": null,
      "outputs": [
        {
          "output_type": "execute_result",
          "data": {
            "text/plain": [
              "<PIL.Image.Image image mode=L size=300x300>"
            ],
            "image/png": "[encoded data removed]"
          },
          "metadata": {},
          "execution_count": 39
        }
      ]
    },
    {
      "cell_type": "code",
      "source": [
        "from PIL import Image # Import the Image module\n",
        "\n",
        "# ... (Your existing encoder_block, decoder_block, dense_block functions remain the same)\n",
        "\n",
        "def preprocess_image(image_path):\n",
        "  img = Image.open(image_path).convert('L')  # Open as grayscale and convert to single channel\n",
        "  img = img.resize((300, 300))  # Resize to 300x300\n",
        "  img_array = tf.keras.preprocessing.image.img_to_array(img)\n",
        "  img_array = img_array / 255.0  # Normalize pixel values to [0, 1]\n",
        "  img_array = tf.expand_dims(img_array, axis=0) # Add batch dimension\n",
        "  return img_array\n",
        "\n",
        "# Assuming 'image_path' is the path to your 512x512 image\n",
        "preprocessed_image = preprocess_image('/content/2.png')\n",
        "prediction = model.predict(preprocessed_image)"
      ],
      "metadata": {
        "colab": {
          "base_uri": "https://localhost:8080/"
        },
        "id": "IDm0MmiBS_gc",
        "outputId": "35e23ef8-b643-4a67-e724-92dec10a874e"
      },
      "execution_count": null,
      "outputs": [
        {
          "output_type": "stream",
          "name": "stdout",
          "text": [
            "1/1 [==============================] - 0s 20ms/step\n"
          ]
        }
      ]
    },
    {
      "cell_type": "code",
      "source": [
        "prediction.shape"
      ],
      "metadata": {
        "colab": {
          "base_uri": "https://localhost:8080/"
        },
        "id": "zyqJKNcsTxqP",
        "outputId": "d54f2182-a699-477e-ae97-0aad41caf570"
      },
      "execution_count": null,
      "outputs": [
        {
          "output_type": "execute_result",
          "data": {
            "text/plain": [
              "(1, 300, 300, 1)"
            ]
          },
          "metadata": {},
          "execution_count": 41
        }
      ]
    },
    {
      "cell_type": "code",
      "source": [
        "predicted_image_array = prediction[0]  # Remove batch dimension\n",
        "predicted_image_array = predicted_image_array.squeeze() # Remove the single channel dimension\n",
        "predicted_image_array = predicted_image_array*255  # Scale back to [0, 255]\n",
        "predicted_image_array = predicted_image_array.astype(np.uint8)  # Convert to 8-bit integer\n",
        "predicted_image = Image.fromarray(predicted_image_array, mode='L')  # Create image from array\n",
        "predicted_image.show()  # Display the image"
      ],
      "metadata": {
        "id": "L3xr-bDXTW44"
      },
      "execution_count": null,
      "outputs": []
    },
    {
      "cell_type": "code",
      "source": [
        "predicted_image"
      ],
      "metadata": {
        "colab": {
          "base_uri": "https://localhost:8080/",
          "height": 317
        },
        "id": "ba44goieTaQL",
        "outputId": "50d55ee9-f5a7-4a0b-a666-a64e48269783"
      },
      "execution_count": null,
      "outputs": [
        {
          "output_type": "execute_result",
          "data": {
            "text/plain": [
              "<PIL.Image.Image image mode=L size=300x300>"
            ],
            "image/png": "[encoded data removed]"
          },
          "metadata": {},
          "execution_count": 43
        }
      ]
    },
    {
      "cell_type": "code",
      "source": [],
      "metadata": {
        "id": "JZfvMxPmUEtd"
      },
      "execution_count": null,
      "outputs": []
    }
  ]
}